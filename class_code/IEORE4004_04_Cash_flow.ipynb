{
  "nbformat": 4,
  "nbformat_minor": 0,
  "metadata": {
    "colab": {
      "provenance": []
    },
    "kernelspec": {
      "name": "python3",
      "display_name": "Python 3"
    },
    "language_info": {
      "name": "python"
    }
  },
  "cells": [
    {
      "cell_type": "markdown",
      "source": [
        "# IEORE4004: OPTIMIZATION MODELS AND METHODS\n",
        "### Created by Yuri Faenza on 09/15/24\n",
        "\n",
        "# Formulation and solution with Gurobi of a Cash Flow problem"
      ],
      "metadata": {
        "id": "N90Q6dIn7GDe"
      }
    },
    {
      "cell_type": "markdown",
      "source": [
        "First formulation"
      ],
      "metadata": {
        "id": "KINFbD2Qb0Nj"
      }
    },
    {
      "cell_type": "code",
      "execution_count": null,
      "metadata": {
        "colab": {
          "base_uri": "https://localhost:8080/"
        },
        "id": "jw0SPcckVXl5",
        "outputId": "4da1c642-954b-4288-f058-11854ab5a4e7"
      },
      "outputs": [
        {
          "output_type": "stream",
          "name": "stdout",
          "text": [
            "Requirement already satisfied: gurobipy in /usr/local/lib/python3.10/dist-packages (11.0.3)\n"
          ]
        }
      ],
      "source": [
        "# Gurobipy is a library for mathematical programming available for Python\n",
        "# More info in: https://www.gurobi.com/documentation/current/refman/py_python_api_overview.html\n",
        "\n",
        "\n",
        "# We can install a free limited version on Collab with the following command\n",
        "\n",
        "!pip install gurobipy\n",
        "import gurobipy as gp"
      ]
    },
    {
      "cell_type": "code",
      "source": [
        "# We can initialize a model as follows\n",
        "\n",
        "m = gp.Model()"
      ],
      "metadata": {
        "id": "IVYFhTE2VbX5"
      },
      "execution_count": null,
      "outputs": []
    },
    {
      "cell_type": "code",
      "source": [
        "# Add variables\n",
        "\n",
        "xa = m.addVar(name='xa')\n",
        "xb = m.addVar(name='xb')\n",
        "xc = m.addVar(name='xc')\n",
        "y0 = m.addVar(name='y0')\n",
        "y1 = m.addVar(name='y1')\n",
        "y2 = m.addVar(name='y2')\n",
        "y3 = m.addVar(name='y3')"
      ],
      "metadata": {
        "id": "bepS2mC6Vm0c"
      },
      "execution_count": null,
      "outputs": []
    },
    {
      "cell_type": "code",
      "source": [
        "# Add constraints\n",
        "\n",
        "C0 = m.addConstr(y0 - 100 + xa + xb == 0)\n",
        "C1 = m.addConstr(y1 - 0.1 * xa - 0.2 * xb - 1.02 * y0 + xc == 0)\n",
        "C2 = m.addConstr(y2 - 1.1 * xb - 1.02 * y1 == 0)\n",
        "C3 = m.addConstr(y3 - 1.3 * xa - 1.5 * xc - 1.02 * y2 == 0)\n",
        "\n",
        "nxa = m.addConstr (xa >= 0)\n",
        "nxb = m.addConstr (xb >= 0)\n",
        "nxb = m.addConstr (xc >= 0)\n",
        "ny0 = m.addConstr (y0 >= 0)\n",
        "ny1 = m.addConstr (y1 >= 0)\n",
        "ny2 = m.addConstr (y2 >= 0)\n",
        "ny3 = m.addConstr (y3 >= 0)\n",
        "\n"
      ],
      "metadata": {
        "id": "Jy78rJRCL9sw"
      },
      "execution_count": null,
      "outputs": []
    },
    {
      "cell_type": "code",
      "source": [
        "# Set objective function\n",
        "\n",
        "m.setObjective(y3, gp.GRB.MAXIMIZE)"
      ],
      "metadata": {
        "id": "-LkOHgkQNAz3"
      },
      "execution_count": null,
      "outputs": []
    },
    {
      "cell_type": "code",
      "source": [
        "# Find optimal solution\n",
        "\n",
        "m.optimize()"
      ],
      "metadata": {
        "colab": {
          "base_uri": "https://localhost:8080/"
        },
        "id": "mRdxxc83NJQ1",
        "outputId": "fde892fa-9041-44e6-db67-16756e0314ed"
      },
      "execution_count": null,
      "outputs": [
        {
          "output_type": "stream",
          "name": "stdout",
          "text": [
            "Gurobi Optimizer version 11.0.3 build v11.0.3rc0 (linux64 - \"Ubuntu 22.04.3 LTS\")\n",
            "\n",
            "CPU model: Intel(R) Xeon(R) CPU @ 2.20GHz, instruction set [SSE2|AVX|AVX2]\n",
            "Thread count: 1 physical cores, 2 logical processors, using up to 2 threads\n",
            "\n",
            "Optimize a model with 11 rows, 7 columns and 22 nonzeros\n",
            "Coefficient statistics:\n",
            "  Matrix range     [1e-01, 2e+00]\n",
            "  Objective range  [1e+00, 1e+00]\n",
            "  Bounds range     [0e+00, 0e+00]\n",
            "  RHS range        [1e+02, 1e+02]\n",
            "LP warm-start: use basis\n",
            "\n",
            "Iteration    Objective       Primal Inf.    Dual Inf.      Time\n",
            "       0    1.0713040e+30   1.286960e+31   1.071304e+00      0s\n",
            "       1    1.5300000e+02   0.000000e+00   0.000000e+00      0s\n",
            "\n",
            "Solved in 1 iterations and 0.01 seconds (0.00 work units)\n",
            "Optimal objective  1.530000000e+02\n"
          ]
        }
      ]
    },
    {
      "cell_type": "code",
      "source": [
        "# Recover variable values on optimal\n",
        "\n",
        "print(xa.X, xb.X, xc.X, )\n",
        "\n",
        "print(y3.X)"
      ],
      "metadata": {
        "colab": {
          "base_uri": "https://localhost:8080/"
        },
        "id": "vziWEwfcesFH",
        "outputId": "bce1d360-dcbf-43ba-aaa0-0f73538a497e"
      },
      "execution_count": null,
      "outputs": [
        {
          "output_type": "stream",
          "name": "stdout",
          "text": [
            "0.0 0.0 102.0\n",
            "153.0\n"
          ]
        }
      ]
    },
    {
      "cell_type": "markdown",
      "source": [
        "The general formulation"
      ],
      "metadata": {
        "id": "7IxDA2f-CdGc"
      }
    },
    {
      "cell_type": "code",
      "source": [
        "# Let's create and solve a random instance of the Cash Flow Problem\n",
        "\n",
        "n = 15 # 15 investments\n",
        "T = 20 # Horizon of 20 years\n",
        "r = 0.02 # return of the money market account\n",
        "b = 1000 # initial budget\n",
        "\n",
        "# We create randomly the matrix Q corresponding to the Cash Flows\n",
        "\n",
        "from random import randint\n",
        "\n",
        "Q = []\n",
        "\n",
        "R = []\n",
        "for j in range(n):\n",
        "  R.append(randint(-10,-1))\n",
        "\n",
        "Q.append(R)\n",
        "\n",
        "for t in range(1,T+1):\n",
        "\n",
        "    # We create a list for the t-th row\n",
        "    R = []\n",
        "    for j in range(n):\n",
        "        R.append(randint(-30, 50))\n",
        "\n",
        "    # Add the new row to the matrix\n",
        "    Q.append(R)\n",
        "\n",
        "Q\n",
        "\n"
      ],
      "metadata": {
        "colab": {
          "base_uri": "https://localhost:8080/"
        },
        "id": "MQnmJFcKoKFG",
        "outputId": "34965fcd-11d5-405b-8ff1-55c38dfe8c13"
      },
      "execution_count": null,
      "outputs": [
        {
          "output_type": "execute_result",
          "data": {
            "text/plain": [
              "[[-9, -8, -2, -10, -2, -3, -10, -2, -7, -1, -2, -8, -2, -7, -2],\n",
              " [-22, -17, 48, 12, -15, 27, 42, 1, 29, -11, 4, -29, 24, 6, 10],\n",
              " [16, 6, 50, 18, -3, 9, -19, -10, -9, 26, 50, 36, -11, 14, 45],\n",
              " [50, 4, 48, 42, 45, -10, -28, 28, -21, -18, 31, -15, 21, 34, -8],\n",
              " [7, -1, 38, -18, -13, 8, 31, -18, -23, 32, -3, -19, 37, 38, 17],\n",
              " [13, 17, 45, 21, -21, 11, 7, 9, -19, 25, -11, -19, -16, 44, -10],\n",
              " [-13, -30, -10, 7, -7, 4, 40, 15, 7, 3, -3, 3, -6, -3, 45],\n",
              " [9, 36, 0, -16, -9, 2, 17, 36, 46, 8, 5, -1, 17, 31, 8],\n",
              " [-21, 24, 4, 19, -17, 24, -2, -5, 41, 37, -9, 36, 8, -15, -12],\n",
              " [-18, 7, 47, -3, 41, -16, -26, -13, -24, 38, 4, -29, 12, -10, 13],\n",
              " [-2, -2, 20, 34, -30, -29, 42, -22, -5, 14, 12, 27, -28, -2, 38],\n",
              " [-28, -29, 24, -3, -23, 3, 21, 24, 3, 8, -7, -11, 9, 36, 1],\n",
              " [23, -21, 36, 40, 23, -28, -14, -22, 39, 25, -6, 37, 26, -2, 25],\n",
              " [-24, 35, 34, -27, 48, 36, 9, 48, 28, 0, 16, 20, 22, 9, -9],\n",
              " [-23, 12, -8, -1, -3, -19, -29, 39, 10, -12, -5, 40, 5, 38, 35],\n",
              " [-1, -23, 2, 26, 11, -29, -15, -27, 9, 27, 36, -6, -29, -13, 13],\n",
              " [35, 37, -9, -2, 36, 49, 38, -18, 36, 1, -12, -16, -17, 31, 33],\n",
              " [21, 7, -11, 39, 43, 17, 2, 45, 25, 38, -26, 20, 45, 24, -12],\n",
              " [34, 25, 25, -4, 20, 46, 37, 2, 46, -9, 41, -9, 23, 20, -27],\n",
              " [-11, 13, 29, 47, 25, 15, 16, -9, 34, -8, -5, 24, -1, 25, -20],\n",
              " [15, 34, -12, 19, 22, 48, 2, 6, 27, -16, 12, 38, 36, -8, 36]]"
            ]
          },
          "metadata": {},
          "execution_count": 89
        }
      ]
    },
    {
      "cell_type": "code",
      "source": [
        "# Model in gurobi\n",
        "\n",
        "m = gp.Model()\n",
        "\n",
        "x = m.addVars(range(n))\n",
        "y = m.addVars(range(T+1))\n",
        "\n",
        "# Constraints for y0\n",
        "m.addConstr(y[0] - sum(Q[0][j] * x[j] for j in range(n)) - b == 0)\n",
        "\n",
        "# Constraints y1, ... yt\n",
        "for t in range(1,T+1):\n",
        "    m.addConstr(y[t] - sum(Q[t][j] * x[j] for j in range(n)) - (1+r) * y[t-1] == 0)\n",
        "\n",
        "# Nonnegativity Constraints\n",
        "for t in range(T+1):\n",
        "  m.addConstr(y[t] >= 0)\n",
        "for j in range(n):\n",
        "  m.addConstr(x[j] >= 0)\n",
        "\n",
        "m.setObjective(y[T], gp.GRB.MAXIMIZE)\n",
        "\n",
        "m.optimize()"
      ],
      "metadata": {
        "colab": {
          "base_uri": "https://localhost:8080/"
        },
        "id": "7ecFNeIIpEzf",
        "outputId": "eb387995-078a-4dc8-fe75-9241a5d428fe"
      },
      "execution_count": null,
      "outputs": [
        {
          "output_type": "stream",
          "name": "stdout",
          "text": [
            "Gurobi Optimizer version 11.0.3 build v11.0.3rc0 (linux64 - \"Ubuntu 22.04.3 LTS\")\n",
            "\n",
            "CPU model: Intel(R) Xeon(R) CPU @ 2.20GHz, instruction set [SSE2|AVX|AVX2]\n",
            "Thread count: 1 physical cores, 2 logical processors, using up to 2 threads\n",
            "\n",
            "Optimize a model with 57 rows, 36 columns and 390 nonzeros\n",
            "Model fingerprint: 0xa93bec4e\n",
            "Coefficient statistics:\n",
            "  Matrix range     [1e+00, 5e+01]\n",
            "  Objective range  [1e+00, 1e+00]\n",
            "  Bounds range     [0e+00, 0e+00]\n",
            "  RHS range        [1e+03, 1e+03]\n",
            "Presolve removed 36 rows and 0 columns\n",
            "Presolve time: 0.01s\n",
            "Presolved: 21 rows, 36 columns, 354 nonzeros\n",
            "\n",
            "Iteration    Objective       Primal Inf.    Dual Inf.      Time\n",
            "       0    1.8933188e+06   1.115309e+05   0.000000e+00      0s\n",
            "       6    2.6161227e+05   0.000000e+00   0.000000e+00      0s\n",
            "\n",
            "Solved in 6 iterations and 0.02 seconds (0.00 work units)\n",
            "Optimal objective  2.616122734e+05\n"
          ]
        }
      ]
    },
    {
      "cell_type": "code",
      "source": [
        "for j in range(n):\n",
        "  print (x[j].X)"
      ],
      "metadata": {
        "colab": {
          "base_uri": "https://localhost:8080/"
        },
        "id": "Ki80ycoLpzZR",
        "outputId": "822a2688-76ed-438a-e2ab-9f5761f9fcec"
      },
      "execution_count": null,
      "outputs": [
        {
          "output_type": "stream",
          "name": "stdout",
          "text": [
            "0.0\n",
            "0.0\n",
            "157.14285714285714\n",
            "0.0\n",
            "0.0\n",
            "0.0\n",
            "0.0\n",
            "0.0\n",
            "0.0\n",
            "685.7142857142858\n",
            "0.0\n",
            "0.0\n",
            "0.0\n",
            "0.0\n",
            "0.0\n"
          ]
        }
      ]
    },
    {
      "cell_type": "code",
      "source": [
        "for t in range(T+1):\n",
        "  print(y[t].X)"
      ],
      "metadata": {
        "colab": {
          "base_uri": "https://localhost:8080/"
        },
        "id": "pKQNy0QDCy4b",
        "outputId": "a4a72d36-841d-448d-cf8f-c8b655d7e169"
      },
      "execution_count": null,
      "outputs": [
        {
          "output_type": "stream",
          "name": "stdout",
          "text": [
            "0.0\n",
            "0.0\n",
            "25685.71428571429\n",
            "21399.428571428572\n",
            "49741.70285714286\n",
            "74950.82262857143\n",
            "76935.55336685716\n",
            "83959.9787199086\n",
            "111639.17829430677\n",
            "147314.81900305004\n",
            "163003.9725259682\n",
            "175521.19483363043\n",
            "201831.61873030305\n",
            "211211.10824776624\n",
            "205949.6161270073\n",
            "228897.17987811886\n",
            "232746.5520471098\n",
            "261730.05451662344\n",
            "264721.79846409877\n",
            "269087.66300480935\n",
            "261612.27340776267\n"
          ]
        }
      ]
    }
  ]
}